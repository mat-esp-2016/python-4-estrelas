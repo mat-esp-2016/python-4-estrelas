{
 "cells": [
  {
   "cell_type": "markdown",
   "metadata": {},
   "source": [
    "Iremos testar um dos arquivos considerando todas as quebras de linha"
   ]
  },
  {
   "cell_type": "code",
   "execution_count": 68,
   "metadata": {
    "collapsed": false
   },
   "outputs": [
    {
     "name": "stdout",
     "output_type": "stream",
     "text": [
      "[' This file contains an extracted local summary of land-surface \\n', ' temperature results produced by the Berkeley Earth averaging \\n', ' method for the location: \\n', ' \\n', '    0.80 S, 49.02 W\\n', ' \\n', ' The Berkeley Earth method takes temperature observations from a large \\n', ' collection of weather monitoring stations and produces an estimate of \\n', \" the underlying global temperature field across all of the Earth's \\n\", ' land areas.  Once this temperature field has been generated, it is \\n', ' possible to estimate the temperature evolution of individual locations \\n', ' simply by sampling the field at the locaiton in question.  This \\n', ' file contains such a local estimate.\\n', ' \\n', ' Temperatures are in Celsius and reported as anomalies relative to the \\n', ' Jan 1951-Dec 1980 average.  Uncertainties represent the 95% confidence \\n', ' interval for statistical noise and spatial undersampling effects.  Such \\n', ' uncertainties are expected to account for the effects of random \\n', ' noise as well as random biases affecting station trends and random \\n', ' shifts in station baselines.  The analysis framework is expected to be \\n', ' robust against most forms of bias; however, the impact of some forms of \\n', ' possible systematic bias is still being studied.\\n', ' \\n', ' The current dataset presented here is described as: \\n', ' \\n', '   Berkeley Earth analysis for mean temperature on complete dataset\\n', ' \\n', ' \\n', ' This analysis was run on 12-Oct-2013 00:45:15\\n', ' \\n', ' Global results are based on 39348 time series \\n', '   with 15244148 data points\\n', ' \\n', ' The current location is characterized by: \\n', '   Country: Brazil\\n', '   Nearby Cities: BelÃ©m, Ananindeua, Barcarena, Vigia, Soure\\n', '   Percent water in local neighborhood: 28.2 %\\n', '   Temperature stations within 200 km: 5\\n', '   Temperature obeservations within 200 km: 1856\\n', ' \\n', ' Note that all results reported here are derived from the full field \\n', ' analysis and may use information from stations a great distance from the \\n', ' target location when more local sources are not available.  In general, \\n', ' the temperature anomaly field has significant correlation extending over \\n', ' greater than 1000 km, which allows even distant stations to provide some \\n', ' insight at times when local coverage may be lacking. \\n', ' \\n', ' Estimated Jan 1951-Dec 1980 absolute temperature (C): 26.74 +/- 0.81\\n', ' \\n', ' Estimated Jan 1951-Dec 1980 monthly absolute temperature (C):\\n', '      Jan    Feb    Mar    Apr    May    Jun    Jul    Aug    Sep    Oct    Nov    Dec\\n', '      26.29  26.59  26.98  26.73  26.59  26.39  26.48  26.88  26.99  27.07  27.18  26.71\\n', ' +/-   0.84   1.52   2.25   1.80   0.86   1.06   1.20   1.20   1.25   1.19   1.06   0.95\\n', ' \\n', ' For each month, we report the estimated land-surface anomaly for that \\n', ' month and its uncertainty.  We also report the corresponding values for \\n', ' year, five-year, ten-year, and twenty-year moving averages CENTERED about \\n', ' that month (rounding down if the center is in between months).  For example, \\n', ' the annual average from January to December 1950 is reported at June 1950. \\n', ' \\n', ' Values are reported as missing (i.e. NaN) when station coverage near \\n', ' this location becomes too low.  Time averages over intervals with some \\n', ' missing data will be reported as long as at least 75% of the necessary \\n', ' values are available.\\n', ' \\n', '                  Monthly          Annual          Five-year        Ten-year        Twenty-year\\n', ' Year, Month,  Anomaly, Unc.,   Anomaly, Unc.,   Anomaly, Unc.,   Anomaly, Unc.,   Anomaly, Unc.\\n']\n"
     ]
    }
   ],
   "source": [
    "arquivo = []\n",
    "fhandle = open('./dados/0.80S-49.02W-TAVG-Trend.txt')\n",
    "for linha in fhandle:\n",
    "    if linha.startswith('%'):\n",
    "       arquivo.append(linha[1:])\n",
    "print(arquivo)\n"
   ]
  },
  {
   "cell_type": "markdown",
   "metadata": {},
   "source": [
    "Iremos testar formas de extrair somente a latitude, a longitude e a cidade mais próxima da estação do texto"
   ]
  },
  {
   "cell_type": "code",
   "execution_count": 69,
   "metadata": {
    "collapsed": true
   },
   "outputs": [],
   "source": [
    "latitude_longitude = arquivo[4].split()"
   ]
  },
  {
   "cell_type": "code",
   "execution_count": 70,
   "metadata": {
    "collapsed": false
   },
   "outputs": [
    {
     "data": {
      "text/plain": [
       "['0.80', 'S,', '49.02', 'W']"
      ]
     },
     "execution_count": 70,
     "metadata": {},
     "output_type": "execute_result"
    }
   ],
   "source": [
    "latitude_longitude"
   ]
  },
  {
   "cell_type": "code",
   "execution_count": 71,
   "metadata": {
    "collapsed": false
   },
   "outputs": [
    {
     "name": "stdout",
     "output_type": "stream",
     "text": [
      "['0.80', 'S,']\n"
     ]
    }
   ],
   "source": [
    "latitude = latitude_longitude[0:2]\n",
    "print(latitude)"
   ]
  },
  {
   "cell_type": "code",
   "execution_count": 72,
   "metadata": {
    "collapsed": false
   },
   "outputs": [
    {
     "name": "stdout",
     "output_type": "stream",
     "text": [
      "['49.02', 'W']\n"
     ]
    }
   ],
   "source": [
    "longitude = latitude_longitude[2:4]\n",
    "print(longitude)"
   ]
  },
  {
   "cell_type": "code",
   "execution_count": 73,
   "metadata": {
    "collapsed": false
   },
   "outputs": [
    {
     "name": "stdout",
     "output_type": "stream",
     "text": [
      "['Nearby', 'Cities:', 'BelÃ©m,', 'Ananindeua,', 'Barcarena,', 'Vigia,', 'Soure']\n"
     ]
    }
   ],
   "source": [
    "nearby_cities = arquivo[35].split()\n",
    "print(nearby_cities)"
   ]
  },
  {
   "cell_type": "code",
   "execution_count": 74,
   "metadata": {
    "collapsed": false
   },
   "outputs": [
    {
     "name": "stdout",
     "output_type": "stream",
     "text": [
      "BelÃ©m,\n"
     ]
    }
   ],
   "source": [
    "cidade_proxima = nearby_cities[2]\n",
    "print(cidade_proxima)"
   ]
  },
  {
   "cell_type": "markdown",
   "metadata": {},
   "source": [
    "Iremos montar a função que tenha como entrada o nome de arquivo de dado e retorne a latitude, a longitude e a cidade mais próxima da estação e testaremos novamente"
   ]
  },
  {
   "cell_type": "code",
   "execution_count": 75,
   "metadata": {
    "collapsed": false
   },
   "outputs": [],
   "source": [
    "import numpy as np\n",
    "def nome(arquivo):\n",
    "    assert type(arquivo) == np.ndarray, 'arquivo deve ser um nupy array'\n",
    "    latitude = latitude_longitude[0:2].sprint()\n",
    "    longitude = latitude_longitude[2:4].sprint()\n",
    "    cidade_proxima = nearby_cities[2].sprint()\n",
    "    return (latitude,longitude,cidade_proxima)\n",
    "    "
   ]
  },
  {
   "cell_type": "code",
   "execution_count": 76,
   "metadata": {
    "collapsed": false
   },
   "outputs": [
    {
     "name": "stdout",
     "output_type": "stream",
     "text": [
      "['0.80', 'S,']\n"
     ]
    }
   ],
   "source": [
    "print(latitude)"
   ]
  },
  {
   "cell_type": "code",
   "execution_count": 77,
   "metadata": {
    "collapsed": false
   },
   "outputs": [
    {
     "name": "stdout",
     "output_type": "stream",
     "text": [
      "['49.02', 'W']\n"
     ]
    }
   ],
   "source": [
    "print(longitude)"
   ]
  },
  {
   "cell_type": "code",
   "execution_count": 78,
   "metadata": {
    "collapsed": false
   },
   "outputs": [
    {
     "name": "stdout",
     "output_type": "stream",
     "text": [
      "BelÃ©m,\n"
     ]
    }
   ],
   "source": [
    "print(cidade_proxima)"
   ]
  },
  {
   "cell_type": "code",
   "execution_count": null,
   "metadata": {
    "collapsed": false
   },
   "outputs": [],
   "source": []
  },
  {
   "cell_type": "code",
   "execution_count": null,
   "metadata": {
    "collapsed": true
   },
   "outputs": [],
   "source": []
  }
 ],
 "metadata": {
  "anaconda-cloud": {},
  "kernelspec": {
   "display_name": "Python [Root]",
   "language": "python",
   "name": "Python [Root]"
  },
  "language_info": {
   "codemirror_mode": {
    "name": "ipython",
    "version": 3
   },
   "file_extension": ".py",
   "mimetype": "text/x-python",
   "name": "python",
   "nbconvert_exporter": "python",
   "pygments_lexer": "ipython3",
   "version": "3.5.2"
  }
 },
 "nbformat": 4,
 "nbformat_minor": 0
}
